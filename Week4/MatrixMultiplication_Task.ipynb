{
  "nbformat": 4,
  "nbformat_minor": 0,
  "metadata": {
    "colab": {
      "name": "MatrixMultiplication.ipynb",
      "provenance": [],
      "include_colab_link": true
    },
    "kernelspec": {
      "name": "python3",
      "display_name": "Python 3"
    },
    "language_info": {
      "name": "python"
    },
    "accelerator": "GPU"
  },
  "cells": [
    {
      "cell_type": "markdown",
      "metadata": {
        "id": "view-in-github",
        "colab_type": "text"
      },
      "source": [
        "<a href=\"https://colab.research.google.com/github/Fizza-Rubab/CS432-GPU/blob/main/Week4/MatrixMultiplication_Task.ipynb\" target=\"_parent\"><img src=\"https://colab.research.google.com/assets/colab-badge.svg\" alt=\"Open In Colab\"/></a>"
      ]
    },
    {
      "cell_type": "code",
      "execution_count": 1,
      "metadata": {
        "colab": {
          "base_uri": "https://localhost:8080/"
        },
        "id": "-YhC1zB4-2ST",
        "outputId": "f8c46dfd-4e85-441d-fc60-a2ba7cca8b31"
      },
      "outputs": [
        {
          "output_type": "stream",
          "name": "stdout",
          "text": [
            "Looking in indexes: https://pypi.org/simple, https://us-python.pkg.dev/colab-wheels/public/simple/\n",
            "Collecting git+https://github.com/andreinechaev/nvcc4jupyter.git\n",
            "  Cloning https://github.com/andreinechaev/nvcc4jupyter.git to /tmp/pip-req-build-njazmuqz\n",
            "  Running command git clone --filter=blob:none --quiet https://github.com/andreinechaev/nvcc4jupyter.git /tmp/pip-req-build-njazmuqz\n",
            "  Resolved https://github.com/andreinechaev/nvcc4jupyter.git to commit aac710a35f52bb78ab34d2e52517237941399eff\n",
            "  Preparing metadata (setup.py) ... \u001b[?25l\u001b[?25hdone\n",
            "Building wheels for collected packages: NVCCPlugin\n",
            "  Building wheel for NVCCPlugin (setup.py) ... \u001b[?25l\u001b[?25hdone\n",
            "  Created wheel for NVCCPlugin: filename=NVCCPlugin-0.0.2-py3-none-any.whl size=4304 sha256=96d30738bafa5cc23c9241971e83843f2129eaba2958e11afce17e3b9d6358b6\n",
            "  Stored in directory: /tmp/pip-ephem-wheel-cache-rapev9ho/wheels/f3/08/cc/e2b5b0e1c92df07dbb50a6f024a68ce090f5e7b2316b41756d\n",
            "Successfully built NVCCPlugin\n",
            "Installing collected packages: NVCCPlugin\n",
            "Successfully installed NVCCPlugin-0.0.2\n",
            "created output directory at /content/src\n",
            "Out bin /content/result.out\n"
          ]
        }
      ],
      "source": [
        "!pip install git+https://github.com/andreinechaev/nvcc4jupyter.git\n",
        "%load_ext nvcc_plugin"
      ]
    },
    {
      "cell_type": "code",
      "source": [
        "%%cu\n",
        "#include <stdio.h>\n",
        "#include <cuda.h>\n",
        " \n",
        "__global__ void MatrixMultiply(int* A, int* B, int* C, const int N) {\n",
        "\t//Calculate the row # \n",
        "\tint Row = blockIdx.y*blockDim.y + threadIdx.y;\n",
        "\n",
        "\t//Calculate the column # \n",
        "\tint Col = blockIdx.x*blockDim.x + threadIdx.x;\n",
        "\n",
        "\tif ((Row < N) && (Col < N)) {\n",
        "\t\t\tint sum = 0;\n",
        "\t\t\t// do the inner product\n",
        "\t\t\tfor (int i=0; i<N;i++){\n",
        "\t\t\t\t\tsum+= A[Row*N+Col]*B[Row*N+Col];\n",
        "\t\t\t}\n",
        "\t\t C[Row*N+Col] = sum;\n",
        "\t}\n",
        "}\n",
        "\n",
        "\n",
        "int main(int argc, char** argv)\n",
        "{\n",
        "\tconst int N = 3; \n",
        "\tsize_t size = N * N * sizeof(int);\n",
        "\tint *a = (int *)malloc(size);\n",
        "\tint *b = (int *)malloc(size);\n",
        "\tint *c = (int *)malloc(size);\n",
        "\tint *a_d, *b_d, *c_d;\n",
        "\t\n",
        "\tfor(int i=0;i<N*N;++i) {\n",
        "\t\ta[i] = 1;\n",
        "\t\tb[i] = 1;\n",
        "\t}\n",
        "\tprintf(\"Matrix A\\n\");\n",
        "\tfor(int i=0;i<N;++i) {\n",
        "\t\t\tfor(int j=0;j<N;++j){\n",
        "\t\t\t\tprintf(\"%d \", a[i*N+j]);\n",
        "\t\t\t}\n",
        "\t\t\tprintf(\"\\n\");\n",
        "\t}\n",
        "\n",
        "\tprintf(\"--------------------------------------\\n\");\n",
        "\tprintf(\"Matrix B\\n\");\n",
        "\tfor(int i=0;i<N;++i) {\n",
        "\t\t\tfor(int j=0;j<N;++j){\n",
        "\t\t\t\tprintf(\"%d \", b[i*N+j]);\n",
        "\t\t\t}\n",
        "\t\t\tprintf(\"\\n\");\n",
        "\t}\n",
        "\n",
        "\t//allocate device memory \n",
        "\tcudaMalloc((void**)&a_d,  size);\n",
        "\tcudaMalloc((void**)&b_d,  size);\n",
        "\tcudaMalloc((void**)&c_d,  size);\n",
        "\t\n",
        "\t//copy host data to device memory\n",
        "\tcudaMemcpy(a_d, a,  size, cudaMemcpyHostToDevice); \n",
        "\tcudaMemcpy(b_d, b,  size, cudaMemcpyHostToDevice);\n",
        "\t\n",
        "\tint BLOCK_SIZE = 16;\n",
        "\tint BLOCK_NUM = ceil(N/float(BLOCK_SIZE));\n",
        "\tdim3 dimGrid(BLOCK_NUM, BLOCK_NUM);\n",
        "\tdim3 dimBlock(BLOCK_SIZE, BLOCK_SIZE);\n",
        "\tMatrixMultiply<<<dimGrid, dimBlock>>>(a_d, b_d, c_d, N);\n",
        "\n",
        "\t\t//copy result from device to host\n",
        "\tcudaMemcpy(c, c_d,  size, cudaMemcpyDeviceToHost);\n",
        "\n",
        "\tprintf(\"--------------------------------------\\n\");\n",
        "\tprintf(\"Matrix A*B calculation result: \\n\");\n",
        "\tfor(int i=0;i<N;++i) {\n",
        "\t\t\tfor(int j=0;j<N;++j){\n",
        "\t\t\t\tprintf(\"%d \", c[i*N+j]);\n",
        "\t\t\t\t}\n",
        "\t\t\tprintf(\"\\n\");\n",
        "\t}\n",
        "\tprintf(\"--------------------------------------\\n\");\n",
        "\n",
        "\n",
        "\t//delete data allocated on device\n",
        "\tcudaFree(a_d);\n",
        "\tcudaFree(b_d);\n",
        "\tcudaFree(c_d);\n",
        "\n",
        "\t//delete host memory\n",
        "\tfree(a);\n",
        "\tfree(b);\n",
        "\tfree(c);\n",
        "\n",
        "\treturn 0;\n",
        "}"
      ],
      "metadata": {
        "colab": {
          "base_uri": "https://localhost:8080/"
        },
        "id": "N6OBCDHlAcrD",
        "outputId": "c4ea5b37-e967-4846-dc32-a0bd5a798dde"
      },
      "execution_count": 28,
      "outputs": [
        {
          "output_type": "stream",
          "name": "stdout",
          "text": [
            "Matrix A\n",
            "1 1 1 \n",
            "1 1 1 \n",
            "1 1 1 \n",
            "--------------------------------------\n",
            "Matrix B\n",
            "1 1 1 \n",
            "1 1 1 \n",
            "1 1 1 \n",
            "--------------------------------------\n",
            "Matrix A*B calculation result: \n",
            "3 3 3 \n",
            "3 3 3 \n",
            "3 3 3 \n",
            "--------------------------------------\n",
            "\n"
          ]
        }
      ]
    }
  ]
}