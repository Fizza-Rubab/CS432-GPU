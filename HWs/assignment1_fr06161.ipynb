{
  "nbformat": 4,
  "nbformat_minor": 0,
  "metadata": {
    "colab": {
      "provenance": [],
      "authorship_tag": "ABX9TyNT+4phKl9ZOoTkb8t1RZdP",
      "include_colab_link": true
    },
    "kernelspec": {
      "name": "python3",
      "display_name": "Python 3"
    },
    "language_info": {
      "name": "python"
    }
  },
  "cells": [
    {
      "cell_type": "markdown",
      "metadata": {
        "id": "view-in-github",
        "colab_type": "text"
      },
      "source": [
        "<a href=\"https://colab.research.google.com/github/Fizza-Rubab/CS432-GPU/blob/main/HWs/assignment1_fr06161.ipynb\" target=\"_parent\"><img src=\"https://colab.research.google.com/assets/colab-badge.svg\" alt=\"Open In Colab\"/></a>"
      ]
    },
    {
      "cell_type": "markdown",
      "source": [
        "# Assignment 1\n",
        "## Fizza Rubab\n",
        "\n",
        "### Question 1\n",
        "The first task asks you to write CUDA code to initialize a random array of 1000000 elements.\n",
        "Provide the following:\n",
        "\n",
        "#### Part (1)\n",
        "Share the amount of time it takes to populate data in the array on the CPU. Use any\n",
        "timing function like clock() or hiresolution counters to note the amount of time it takes to\n",
        "generate data on the CPU. (+20)\n"
      ],
      "metadata": {
        "id": "uY-JRkWTD8lf"
      }
    },
    {
      "cell_type": "code",
      "execution_count": null,
      "metadata": {
        "id": "opvATcR0D7JO"
      },
      "outputs": [],
      "source": [
        "!pip install git+https://github.com/andreinechaev/nvcc4jupyter.git\n",
        "%load_ext nvcc_plugin\n"
      ]
    }
  ]
}