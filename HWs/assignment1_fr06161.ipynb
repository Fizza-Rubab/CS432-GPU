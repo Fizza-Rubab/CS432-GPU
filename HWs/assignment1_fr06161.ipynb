{
  "nbformat": 4,
  "nbformat_minor": 0,
  "metadata": {
    "colab": {
      "provenance": [],
      "authorship_tag": "ABX9TyMDcJR++8xD4SHf7f5GgUBO",
      "include_colab_link": true
    },
    "kernelspec": {
      "name": "python3",
      "display_name": "Python 3"
    },
    "language_info": {
      "name": "python"
    },
    "accelerator": "GPU",
    "gpuClass": "standard"
  },
  "cells": [
    {
      "cell_type": "markdown",
      "metadata": {
        "id": "view-in-github",
        "colab_type": "text"
      },
      "source": [
        "<a href=\"https://colab.research.google.com/github/Fizza-Rubab/CS432-GPU/blob/main/HWs/assignment1_fr06161.ipynb\" target=\"_parent\"><img src=\"https://colab.research.google.com/assets/colab-badge.svg\" alt=\"Open In Colab\"/></a>"
      ]
    },
    {
      "cell_type": "markdown",
      "source": [
        "# Assignment 1\n",
        "## Fizza Rubab\n",
        "\n",
        "### Question 1\n",
        "The first task asks you to write CUDA code to initialize a random array of 1000000 elements.\n",
        "Provide the following:\n",
        "\n",
        "#### Part (1)\n",
        "Share the amount of time it takes to populate data in the array on the CPU. Use any\n",
        "timing function like clock() or hiresolution counters to note the amount of time it takes to\n",
        "generate data on the CPU. (+20)\n"
      ],
      "metadata": {
        "id": "uY-JRkWTD8lf"
      }
    },
    {
      "cell_type": "code",
      "execution_count": 1,
      "metadata": {
        "colab": {
          "base_uri": "https://localhost:8080/"
        },
        "id": "opvATcR0D7JO",
        "outputId": "4b5a1d26-f436-4077-9cbf-e567d29937a3"
      },
      "outputs": [
        {
          "output_type": "stream",
          "name": "stdout",
          "text": [
            "Looking in indexes: https://pypi.org/simple, https://us-python.pkg.dev/colab-wheels/public/simple/\n",
            "Collecting git+https://github.com/andreinechaev/nvcc4jupyter.git\n",
            "  Cloning https://github.com/andreinechaev/nvcc4jupyter.git to /tmp/pip-req-build-2p20d5h1\n",
            "  Running command git clone --filter=blob:none --quiet https://github.com/andreinechaev/nvcc4jupyter.git /tmp/pip-req-build-2p20d5h1\n",
            "  Resolved https://github.com/andreinechaev/nvcc4jupyter.git to commit aac710a35f52bb78ab34d2e52517237941399eff\n",
            "  Preparing metadata (setup.py) ... \u001b[?25l\u001b[?25hdone\n",
            "Building wheels for collected packages: NVCCPlugin\n",
            "  Building wheel for NVCCPlugin (setup.py) ... \u001b[?25l\u001b[?25hdone\n",
            "  Created wheel for NVCCPlugin: filename=NVCCPlugin-0.0.2-py3-none-any.whl size=4304 sha256=7913ac9541a14074409c007beb05f2c603fa3b35a645fc14c5763f1e697e76da\n",
            "  Stored in directory: /tmp/pip-ephem-wheel-cache-bcz8lc5z/wheels/f3/08/cc/e2b5b0e1c92df07dbb50a6f024a68ce090f5e7b2316b41756d\n",
            "Successfully built NVCCPlugin\n",
            "Installing collected packages: NVCCPlugin\n",
            "Successfully installed NVCCPlugin-0.0.2\n",
            "created output directory at /content/src\n",
            "Out bin /content/result.out\n"
          ]
        }
      ],
      "source": [
        "!pip install git+https://github.com/andreinechaev/nvcc4jupyter.git\n",
        "%load_ext nvcc_plugin\n"
      ]
    },
    {
      "cell_type": "code",
      "source": [
        "!nvidia-smi"
      ],
      "metadata": {
        "colab": {
          "base_uri": "https://localhost:8080/"
        },
        "id": "gwyRZzo-EzSJ",
        "outputId": "f27ea070-7535-4a3d-a1d0-e7bf90bb6697"
      },
      "execution_count": 2,
      "outputs": [
        {
          "output_type": "stream",
          "name": "stdout",
          "text": [
            "Wed Jan 25 16:47:37 2023       \n",
            "+-----------------------------------------------------------------------------+\n",
            "| NVIDIA-SMI 510.47.03    Driver Version: 510.47.03    CUDA Version: 11.6     |\n",
            "|-------------------------------+----------------------+----------------------+\n",
            "| GPU  Name        Persistence-M| Bus-Id        Disp.A | Volatile Uncorr. ECC |\n",
            "| Fan  Temp  Perf  Pwr:Usage/Cap|         Memory-Usage | GPU-Util  Compute M. |\n",
            "|                               |                      |               MIG M. |\n",
            "|===============================+======================+======================|\n",
            "|   0  Tesla T4            Off  | 00000000:00:04.0 Off |                    0 |\n",
            "| N/A   72C    P0    31W /  70W |      0MiB / 15360MiB |      0%      Default |\n",
            "|                               |                      |                  N/A |\n",
            "+-------------------------------+----------------------+----------------------+\n",
            "                                                                               \n",
            "+-----------------------------------------------------------------------------+\n",
            "| Processes:                                                                  |\n",
            "|  GPU   GI   CI        PID   Type   Process name                  GPU Memory |\n",
            "|        ID   ID                                                   Usage      |\n",
            "|=============================================================================|\n",
            "|  No running processes found                                                 |\n",
            "+-----------------------------------------------------------------------------+\n"
          ]
        }
      ]
    },
    {
      "cell_type": "code",
      "source": [
        "%%cu\n",
        "#include <bits/stdc++.h>\n",
        "#include <stdio.h>\n",
        "\n",
        "inline cudaError_t checkCudaErr(cudaError_t err, const char* msg) {\n",
        "  if (err != cudaSuccess) {\n",
        "    fprintf(stderr, \"CUDA Runtime error at %s: %s\\n\", msg, cudaGetErrorString(err));\n",
        "  }\n",
        "  return err;\n",
        "}\n",
        " \n",
        "\n",
        "__global__ void MyKernel(int* data) \n",
        "{\n",
        "    \n",
        "}\n",
        "\n",
        "int main()\n",
        "{\n",
        "  const int N = 1000000;\n",
        "  clock_t start, end;\n",
        "  start = clock();\n",
        "  int array[N];\n",
        "  for (int i=0; i<N; i++)\n",
        "    array[i] = rand();\n",
        "  end = clock();\n",
        "  double time_elapsed = double(end - start) / double(CLOCKS_PER_SEC);\n",
        "  printf(\"Time taken to generate a 1000000 element random array is %f seconds.\\n\", time_elapsed);\n",
        "  printf(\"Displaying first 10 elements for verification:\\n\");\n",
        "  for (int i = 0; i < 10; i++)\n",
        "      printf(\"%d\\n\", array[i]);\n",
        "  return 0;\n",
        "}\n"
      ],
      "metadata": {
        "colab": {
          "base_uri": "https://localhost:8080/"
        },
        "id": "XTNEgsV4E5KT",
        "outputId": "f496cfae-2861-4508-f7fd-ce0129148812"
      },
      "execution_count": 10,
      "outputs": [
        {
          "output_type": "stream",
          "name": "stdout",
          "text": [
            "Time taken to generate a 1000000 element random array is 0.007637 seconds.\n",
            "Displaying first 10 elements for verification:\n",
            "1804289383\n",
            "846930886\n",
            "1681692777\n",
            "1714636915\n",
            "1957747793\n",
            "424238335\n",
            "719885386\n",
            "1649760492\n",
            "596516649\n",
            "1189641421\n",
            "\n"
          ]
        }
      ]
    },
    {
      "cell_type": "markdown",
      "source": [
        "#### References\n",
        "1. https://www.geeksforgeeks.org/measure-execution-time-with-high-precision-in-c-c/\n",
        "2. https://www.tutorialspoint.com/c_standard_library/c_function_rand.htm"
      ],
      "metadata": {
        "id": "LASNvYwIH8Q6"
      }
    },
    {
      "cell_type": "markdown",
      "source": [
        "### Part(2)\n",
        "Find a way to do the random data initialization of the array on the GPU. Do not just\n",
        "copy data from CPU array to GPU. Instead, you should use any library like cuRand but\n",
        "you should provide relevant references. Note the time it takes to run the kernel using the\n",
        "CUDA event API to calculate the amount of time needed by the GPU. (+20)"
      ],
      "metadata": {
        "id": "9Pa_6swVIz0x"
      }
    },
    {
      "cell_type": "code",
      "source": [
        "%%writefile /content/test.cu\n",
        "#include <stdio.h>\n",
        "#include <stdlib.h>\n",
        "#include <cuda.h>\n",
        "#include <curand_kernel.h>\n",
        "inline cudaError_t checkCudaErr(cudaError_t err, const char* msg) {\n",
        "  if (err != cudaSuccess) {\n",
        "    fprintf(stderr, \"CUDA Runtime error at %s: %s\\n\", msg, cudaGetErrorString(err));\n",
        "  }\n",
        "  return err;\n",
        "}\n",
        "\n",
        "__global__ void device_api_kernel(curandState *states, float *out, int N)\n",
        "{\n",
        "    int i;\n",
        "    int tid = blockIdx.x * blockDim.x + threadIdx.x;\n",
        "    int nthreads = gridDim.x * blockDim.x;\n",
        "    curandState *state = states + tid;\n",
        "\n",
        "    curand_init(9384, tid, 0, state);\n",
        "\n",
        "    for (i = tid; i < N; i += nthreads)\n",
        "    {\n",
        "        float rand = curand_uniform(state);\n",
        "        rand = rand * 2;\n",
        "        out[i] = rand;\n",
        "    }\n",
        "}\n",
        "\n",
        "\n",
        "int main(int argc, char **argv)\n",
        "{\n",
        "    int N = 1000000;\n",
        "    curandState *states = NULL;\n",
        "    float *dOut, *hOut;\n",
        "\t  int threads_per_block =  128;\n",
        "\t  int blocks_per_grid = ceilf(N/threads_per_block + 1);\n",
        "    cudaMalloc((void **)&dOut, sizeof(float) * N);\n",
        "    cudaMalloc((void **)&states, sizeof(curandState)*threads_per_block * blocks_per_grid);\n",
        "    hOut = (float *)malloc(sizeof(float) * N);\n",
        "\n",
        "    cudaEvent_t start, stop;\n",
        "    float elapsedTime;\n",
        "\n",
        "    cudaEventCreate(&start);\n",
        "    cudaEventRecord(start,0);\n",
        "\n",
        "\n",
        "    device_api_kernel<<<blocks_per_grid, threads_per_block>>>(states, dOut, N);\n",
        "\n",
        "\n",
        "    cudaEventCreate(&stop);\n",
        "    cudaEventRecord(stop,0);\n",
        "    cudaEventSynchronize(stop);\n",
        "\n",
        "    cudaEventElapsedTime(&elapsedTime, start,stop);\n",
        "    printf(\"Elapsed time for function call: %f ms\\n\" ,elapsedTime);\n",
        "\n",
        "    checkCudaErr(cudaMemcpy(hOut, dOut, sizeof(float) * N, cudaMemcpyDeviceToHost), \"memcopy\");\n",
        "    printf(\"Displaying first 10 random numbers from array of 1000000 elements\\n\");\n",
        "    for (int i = 0; i < 10; i++)\n",
        "        printf(\"%2.4f\\n\", hOut[i]);\n",
        "    free(hOut);\n",
        "    cudaFree(dOut);\n",
        "    cudaFree(states);\n",
        "    return 0;\n",
        "}"
      ],
      "metadata": {
        "colab": {
          "base_uri": "https://localhost:8080/"
        },
        "id": "wuMdwHYGKw4B",
        "outputId": "125eb962-4002-40cf-cc68-d367b1003920"
      },
      "execution_count": 4,
      "outputs": [
        {
          "output_type": "stream",
          "name": "stdout",
          "text": [
            "Writing /content/test.cu\n"
          ]
        }
      ]
    },
    {
      "cell_type": "code",
      "source": [
        "!nvcc /content/test.cu -lcurand -o test"
      ],
      "metadata": {
        "id": "5V5NuQJ9TXX-"
      },
      "execution_count": 5,
      "outputs": []
    },
    {
      "cell_type": "code",
      "source": [
        "!./test"
      ],
      "metadata": {
        "colab": {
          "base_uri": "https://localhost:8080/"
        },
        "id": "8NE35S0WTjDo",
        "outputId": "e9135ff5-c573-4a81-ab95-9eda77ab2ebe"
      },
      "execution_count": 6,
      "outputs": [
        {
          "output_type": "stream",
          "name": "stdout",
          "text": [
            "Elapsed time for function call: 43.972801 ms\n",
            "Displaying first 10 random numbers from array of 1000000 elements\n",
            "1.7875\n",
            "1.0698\n",
            "1.5584\n",
            "0.7782\n",
            "0.3320\n",
            "0.5016\n",
            "1.3649\n",
            "0.3079\n",
            "0.1805\n",
            "0.2031\n"
          ]
        }
      ]
    },
    {
      "cell_type": "markdown",
      "source": [
        "### Part(3)\n",
        "Copy the random array data generated on the GPU from the GPU to the CPU using\n",
        "cudaMemcpy. Note the amount of time it takes to move the data from GPU to the CPU.\n",
        "(+10)"
      ],
      "metadata": {
        "id": "bEvxGi0EW71C"
      }
    },
    {
      "cell_type": "code",
      "source": [
        "%%writefile /content/test.cu\n",
        "#include <stdio.h>\n",
        "#include <stdlib.h>\n",
        "#include <cuda.h>\n",
        "#include <curand_kernel.h>\n",
        "inline cudaError_t checkCudaErr(cudaError_t err, const char* msg) {\n",
        "  if (err != cudaSuccess) {\n",
        "    fprintf(stderr, \"CUDA Runtime error at %s: %s\\n\", msg, cudaGetErrorString(err));\n",
        "  }\n",
        "  return err;\n",
        "}\n",
        "\n",
        "__global__ void device_api_kernel(curandState *states, float *out, int N)\n",
        "{\n",
        "    int i;\n",
        "    int tid = blockIdx.x * blockDim.x + threadIdx.x;\n",
        "    int nthreads = gridDim.x * blockDim.x;\n",
        "    curandState *state = states + tid;\n",
        "\n",
        "    curand_init(9384, tid, 0, state);\n",
        "\n",
        "    for (i = tid; i < N; i += nthreads)\n",
        "    {\n",
        "        float rand = curand_uniform(state);\n",
        "        rand = rand * 2;\n",
        "        out[i] = rand;\n",
        "    }\n",
        "}\n",
        "\n",
        "\n",
        "int main(int argc, char **argv)\n",
        "{\n",
        "    int N = 1000000;\n",
        "    curandState *states = NULL;\n",
        "    float *dOut, *hOut;\n",
        "\t  int threads_per_block =  128;\n",
        "\t  int blocks_per_grid = ceilf(N/threads_per_block + 1);\n",
        "    cudaMalloc((void **)&dOut, sizeof(float) * N);\n",
        "    cudaMalloc((void **)&states, sizeof(curandState)*threads_per_block * blocks_per_grid);\n",
        "    hOut = (float *)malloc(sizeof(float) * N);\n",
        "    device_api_kernel<<<blocks_per_grid, threads_per_block>>>(states, dOut, N);\n",
        "    checkCudaErr(cudaMemcpy(hOut, dOut, sizeof(float) * N, cudaMemcpyDeviceToHost), \"memcopy\");\n",
        "    printf(\"Displaying first 10 random numbers from array of 1000000 elements\\n\");\n",
        "    for (int i = 0; i < 10; i++)\n",
        "        printf(\"%2.4f\\n\", hOut[i]);\n",
        "    free(hOut);\n",
        "    cudaFree(dOut);\n",
        "    cudaFree(states);\n",
        "    return 0;\n",
        "}"
      ],
      "metadata": {
        "colab": {
          "base_uri": "https://localhost:8080/"
        },
        "id": "Y0j-x7tLLOd2",
        "outputId": "5694caf8-de0b-47ca-8ffb-25466a01b10d"
      },
      "execution_count": null,
      "outputs": [
        {
          "output_type": "stream",
          "name": "stdout",
          "text": [
            "Overwriting /content/test.cu\n"
          ]
        }
      ]
    },
    {
      "cell_type": "code",
      "source": [],
      "metadata": {
        "id": "DpneP3JJMsY6"
      },
      "execution_count": null,
      "outputs": []
    },
    {
      "cell_type": "markdown",
      "source": [
        "## Question 2\n",
        "Write CUDA code to calculate the sum of 1000 elements array and output the sum. Calculate\n",
        "the total time for doing the calculation on the CPU as well as on the GPU. Use an appropriate\n",
        "execution configuration when you launch your kernel. Share the following information from your\n",
        "solution.\n",
        "\n",
        "1. Code compiles and outputs as expected both on CPU and GPU. (+10)\n",
        "2. Plot your results in a graph and show both your results (CPU/GPU) against different\n",
        "dataset sizes (1000,10000,100000) and different execution configurations (+30)\n",
        "3. Do proper error handling in your code so any CUDA error should be reported to the user.\n",
        "(+10)\n",
        "\n"
      ],
      "metadata": {
        "id": "ypGqX5-AXAYQ"
      }
    },
    {
      "cell_type": "code",
      "source": [],
      "metadata": {
        "id": "2kD8lp-W-Y-T"
      },
      "execution_count": null,
      "outputs": []
    }
  ]
}