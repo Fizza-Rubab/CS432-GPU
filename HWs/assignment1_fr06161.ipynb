{
  "nbformat": 4,
  "nbformat_minor": 0,
  "metadata": {
    "colab": {
      "provenance": [],
      "authorship_tag": "ABX9TyNiDYxptJQsWgMl+4SdKHhN",
      "include_colab_link": true
    },
    "kernelspec": {
      "name": "python3",
      "display_name": "Python 3"
    },
    "language_info": {
      "name": "python"
    }
  },
  "cells": [
    {
      "cell_type": "markdown",
      "metadata": {
        "id": "view-in-github",
        "colab_type": "text"
      },
      "source": [
        "<a href=\"https://colab.research.google.com/github/Fizza-Rubab/CS432-GPU/blob/main/HWs/assignment1_fr06161.ipynb\" target=\"_parent\"><img src=\"https://colab.research.google.com/assets/colab-badge.svg\" alt=\"Open In Colab\"/></a>"
      ]
    },
    {
      "cell_type": "markdown",
      "source": [
        "# Assignment 1\n",
        "## Fizza Rubab\n",
        "\n",
        "### Question 1\n",
        "The first task asks you to write CUDA code to initialize a random array of 1000000 elements.\n",
        "Provide the following:\n",
        "\n",
        "#### Part (1)\n",
        "Share the amount of time it takes to populate data in the array on the CPU. Use any\n",
        "timing function like clock() or hiresolution counters to note the amount of time it takes to\n",
        "generate data on the CPU. (+20)\n"
      ],
      "metadata": {
        "id": "uY-JRkWTD8lf"
      }
    },
    {
      "cell_type": "code",
      "execution_count": 1,
      "metadata": {
        "colab": {
          "base_uri": "https://localhost:8080/"
        },
        "id": "opvATcR0D7JO",
        "outputId": "32705d2e-c17f-4f79-f3db-0fc81e331168"
      },
      "outputs": [
        {
          "output_type": "stream",
          "name": "stdout",
          "text": [
            "Looking in indexes: https://pypi.org/simple, https://us-python.pkg.dev/colab-wheels/public/simple/\n",
            "Collecting git+https://github.com/andreinechaev/nvcc4jupyter.git\n",
            "  Cloning https://github.com/andreinechaev/nvcc4jupyter.git to /tmp/pip-req-build-7gzjr2ed\n",
            "  Running command git clone --filter=blob:none --quiet https://github.com/andreinechaev/nvcc4jupyter.git /tmp/pip-req-build-7gzjr2ed\n",
            "  Resolved https://github.com/andreinechaev/nvcc4jupyter.git to commit aac710a35f52bb78ab34d2e52517237941399eff\n",
            "  Preparing metadata (setup.py) ... \u001b[?25l\u001b[?25hdone\n",
            "Building wheels for collected packages: NVCCPlugin\n",
            "  Building wheel for NVCCPlugin (setup.py) ... \u001b[?25l\u001b[?25hdone\n",
            "  Created wheel for NVCCPlugin: filename=NVCCPlugin-0.0.2-py3-none-any.whl size=4304 sha256=6674c8945320495f81e33083254e36d9f7d68cbb8b1a5a4a00d9dc8b3fc00580\n",
            "  Stored in directory: /tmp/pip-ephem-wheel-cache-ymed9ol3/wheels/f3/08/cc/e2b5b0e1c92df07dbb50a6f024a68ce090f5e7b2316b41756d\n",
            "Successfully built NVCCPlugin\n",
            "Installing collected packages: NVCCPlugin\n",
            "Successfully installed NVCCPlugin-0.0.2\n",
            "created output directory at /content/src\n",
            "Out bin /content/result.out\n"
          ]
        }
      ],
      "source": [
        "!pip install git+https://github.com/andreinechaev/nvcc4jupyter.git\n",
        "%load_ext nvcc_plugin\n"
      ]
    },
    {
      "cell_type": "code",
      "source": [
        "!nvidia-smi"
      ],
      "metadata": {
        "colab": {
          "base_uri": "https://localhost:8080/"
        },
        "id": "gwyRZzo-EzSJ",
        "outputId": "c2dd7cd6-295e-480d-f169-d096b72209cd"
      },
      "execution_count": 2,
      "outputs": [
        {
          "output_type": "stream",
          "name": "stdout",
          "text": [
            "NVIDIA-SMI has failed because it couldn't communicate with the NVIDIA driver. Make sure that the latest NVIDIA driver is installed and running.\n",
            "\n"
          ]
        }
      ]
    },
    {
      "cell_type": "code",
      "source": [
        "%%cu\n",
        "#include <bits/stdc++.h>\n",
        "#include <stdio.h>\n",
        "\n",
        "inline cudaError_t checkCudaErr(cudaError_t err, const char* msg) {\n",
        "  if (err != cudaSuccess) {\n",
        "    fprintf(stderr, \"CUDA Runtime error at %s: %s\\n\", msg, cudaGetErrorString(err));\n",
        "  }\n",
        "  return err;\n",
        "}\n",
        " \n",
        "\n",
        "__global__ void MyKernel(int* data) \n",
        "{\n",
        "    \n",
        "}\n",
        "\n",
        "int main()\n",
        "{\n",
        "  const int N = 1000000;\n",
        "  clock_t start, end;\n",
        "  start = clock();\n",
        "  int array[N];\n",
        "  for (int i=0; i<N; i++)\n",
        "    array[i] = rand();\n",
        "  end = clock();\n",
        "  double time_elapsed = double(end - start) / double(CLOCKS_PER_SEC);\n",
        "  printf(\"Time taken to generate a 1000000 element random array is %f seconds.\", time_elapsed);\n",
        "  return 0;\n",
        "}\n"
      ],
      "metadata": {
        "colab": {
          "base_uri": "https://localhost:8080/"
        },
        "id": "XTNEgsV4E5KT",
        "outputId": "e855f337-8bde-46c7-c154-7c7b6844ee17"
      },
      "execution_count": 9,
      "outputs": [
        {
          "output_type": "stream",
          "name": "stdout",
          "text": [
            "Time taken to generate a 1000000 element random array is 0.016548 seconds.\n"
          ]
        }
      ]
    },
    {
      "cell_type": "markdown",
      "source": [
        "#### References\n",
        "1. https://www.geeksforgeeks.org/measure-execution-time-with-high-precision-in-c-c/\n",
        "2. https://www.tutorialspoint.com/c_standard_library/c_function_rand.htm"
      ],
      "metadata": {
        "id": "LASNvYwIH8Q6"
      }
    }
  ]
}