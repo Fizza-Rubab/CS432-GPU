{
  "nbformat": 4,
  "nbformat_minor": 0,
  "metadata": {
    "colab": {
      "provenance": [],
      "authorship_tag": "ABX9TyPiTeSckT26Rei636M891wh",
      "include_colab_link": true
    },
    "kernelspec": {
      "name": "python3",
      "display_name": "Python 3"
    },
    "language_info": {
      "name": "python"
    },
    "accelerator": "GPU",
    "gpuClass": "standard"
  },
  "cells": [
    {
      "cell_type": "markdown",
      "metadata": {
        "id": "view-in-github",
        "colab_type": "text"
      },
      "source": [
        "<a href=\"https://colab.research.google.com/github/Fizza-Rubab/CS432-GPU/blob/main/HWs/assignment1_fr06161.ipynb\" target=\"_parent\"><img src=\"https://colab.research.google.com/assets/colab-badge.svg\" alt=\"Open In Colab\"/></a>"
      ]
    },
    {
      "cell_type": "markdown",
      "source": [
        "# Assignment 1\n",
        "## Fizza Rubab\n",
        "\n",
        "### Question 1\n",
        "The first task asks you to write CUDA code to initialize a random array of 1000000 elements.\n",
        "Provide the following:\n",
        "\n",
        "#### Part (1)\n",
        "Share the amount of time it takes to populate data in the array on the CPU. Use any\n",
        "timing function like clock() or hiresolution counters to note the amount of time it takes to\n",
        "generate data on the CPU. (+20)\n"
      ],
      "metadata": {
        "id": "uY-JRkWTD8lf"
      }
    },
    {
      "cell_type": "code",
      "execution_count": 8,
      "metadata": {
        "colab": {
          "base_uri": "https://localhost:8080/"
        },
        "id": "opvATcR0D7JO",
        "outputId": "8983624c-e315-4e01-bd5c-ed8e6a173e66"
      },
      "outputs": [
        {
          "output_type": "stream",
          "name": "stdout",
          "text": [
            "Looking in indexes: https://pypi.org/simple, https://us-python.pkg.dev/colab-wheels/public/simple/\n",
            "Collecting git+https://github.com/andreinechaev/nvcc4jupyter.git\n",
            "  Cloning https://github.com/andreinechaev/nvcc4jupyter.git to /tmp/pip-req-build-4pz2ehsx\n",
            "  Running command git clone --filter=blob:none --quiet https://github.com/andreinechaev/nvcc4jupyter.git /tmp/pip-req-build-4pz2ehsx\n",
            "  Resolved https://github.com/andreinechaev/nvcc4jupyter.git to commit aac710a35f52bb78ab34d2e52517237941399eff\n",
            "  Preparing metadata (setup.py) ... \u001b[?25l\u001b[?25hdone\n",
            "Building wheels for collected packages: NVCCPlugin\n",
            "  Building wheel for NVCCPlugin (setup.py) ... \u001b[?25l\u001b[?25hdone\n",
            "  Created wheel for NVCCPlugin: filename=NVCCPlugin-0.0.2-py3-none-any.whl size=4304 sha256=5cf92bf5e27dfa0ac341d277e4cb009f4f9e94df7b76cb1b928c29c84bf39172\n",
            "  Stored in directory: /tmp/pip-ephem-wheel-cache-jco9ylfe/wheels/f3/08/cc/e2b5b0e1c92df07dbb50a6f024a68ce090f5e7b2316b41756d\n",
            "Successfully built NVCCPlugin\n",
            "Installing collected packages: NVCCPlugin\n",
            "Successfully installed NVCCPlugin-0.0.2\n",
            "created output directory at /content/src\n",
            "Out bin /content/result.out\n"
          ]
        }
      ],
      "source": [
        "!pip install git+https://github.com/andreinechaev/nvcc4jupyter.git\n",
        "%load_ext nvcc_plugin\n"
      ]
    },
    {
      "cell_type": "code",
      "source": [
        "!nvidia-smi"
      ],
      "metadata": {
        "colab": {
          "base_uri": "https://localhost:8080/"
        },
        "id": "gwyRZzo-EzSJ",
        "outputId": "c2dd7cd6-295e-480d-f169-d096b72209cd"
      },
      "execution_count": 2,
      "outputs": [
        {
          "output_type": "stream",
          "name": "stdout",
          "text": [
            "NVIDIA-SMI has failed because it couldn't communicate with the NVIDIA driver. Make sure that the latest NVIDIA driver is installed and running.\n",
            "\n"
          ]
        }
      ]
    },
    {
      "cell_type": "code",
      "source": [
        "%%cu\n",
        "#include <bits/stdc++.h>\n",
        "#include <stdio.h>\n",
        "\n",
        "inline cudaError_t checkCudaErr(cudaError_t err, const char* msg) {\n",
        "  if (err != cudaSuccess) {\n",
        "    fprintf(stderr, \"CUDA Runtime error at %s: %s\\n\", msg, cudaGetErrorString(err));\n",
        "  }\n",
        "  return err;\n",
        "}\n",
        " \n",
        "\n",
        "__global__ void MyKernel(int* data) \n",
        "{\n",
        "    \n",
        "}\n",
        "\n",
        "int main()\n",
        "{\n",
        "  const int N = 1000000;\n",
        "  clock_t start, end;\n",
        "  start = clock();\n",
        "  int array[N];\n",
        "  for (int i=0; i<N; i++)\n",
        "    array[i] = rand();\n",
        "  end = clock();\n",
        "  double time_elapsed = double(end - start) / double(CLOCKS_PER_SEC);\n",
        "  printf(\"Time taken to generate a 1000000 element random array is %f seconds.\", time_elapsed);\n",
        "  return 0;\n",
        "}\n"
      ],
      "metadata": {
        "colab": {
          "base_uri": "https://localhost:8080/"
        },
        "id": "XTNEgsV4E5KT",
        "outputId": "e855f337-8bde-46c7-c154-7c7b6844ee17"
      },
      "execution_count": 9,
      "outputs": [
        {
          "output_type": "stream",
          "name": "stdout",
          "text": [
            "Time taken to generate a 1000000 element random array is 0.016548 seconds.\n"
          ]
        }
      ]
    },
    {
      "cell_type": "markdown",
      "source": [
        "#### References\n",
        "1. https://www.geeksforgeeks.org/measure-execution-time-with-high-precision-in-c-c/\n",
        "2. https://www.tutorialspoint.com/c_standard_library/c_function_rand.htm"
      ],
      "metadata": {
        "id": "LASNvYwIH8Q6"
      }
    },
    {
      "cell_type": "markdown",
      "source": [
        "### Part(2)\n",
        "Find a way to do the random data initialization of the array on the GPU. Do not just\n",
        "copy data from CPU array to GPU. Instead, you should use any library like cuRand but\n",
        "you should provide relevant references. Note the time it takes to run the kernel using the\n",
        "CUDA event API to calculate the amount of time needed by the GPU. (+20)"
      ],
      "metadata": {
        "id": "9Pa_6swVIz0x"
      }
    },
    {
      "cell_type": "code",
      "source": [
        "%%writefile /content/test.cu\n",
        "#include <stdio.h>\n",
        "#include <stdlib.h>\n",
        "#include <cuda.h>\n",
        "#include <curand_kernel.h>\n",
        "inline cudaError_t checkCudaErr(cudaError_t err, const char* msg) {\n",
        "  if (err != cudaSuccess) {\n",
        "    fprintf(stderr, \"CUDA Runtime error at %s: %s\\n\", msg, cudaGetErrorString(err));\n",
        "  }\n",
        "  return err;\n",
        "}\n",
        "\n",
        "__global__ void device_api_kernel(curandState *states, float *out, int N)\n",
        "{\n",
        "    int i;\n",
        "    int tid = blockIdx.x * blockDim.x + threadIdx.x;\n",
        "    int nthreads = gridDim.x * blockDim.x;\n",
        "    curandState *state = states + tid;\n",
        "\n",
        "    curand_init(9384, tid, 0, state);\n",
        "\n",
        "    for (i = tid; i < N; i += nthreads)\n",
        "    {\n",
        "        float rand = curand_uniform(state);\n",
        "        rand = rand * 2;\n",
        "        out[i] = rand;\n",
        "    }\n",
        "}\n",
        "\n",
        "\n",
        "int main(int argc, char **argv)\n",
        "{\n",
        "    int N = 1000000;\n",
        "    curandState *states = NULL;\n",
        "    float *dOut, *hOut;\n",
        "\t  int threads_per_block =  128;\n",
        "\t  int blocks_per_grid = ceilf(N/threads_per_block + 1);\n",
        "    cudaMalloc((void **)&dOut, sizeof(float) * N);\n",
        "    cudaMalloc((void **)&states, sizeof(curandState)*threads_per_block * blocks_per_grid);\n",
        "    hOut = (float *)malloc(sizeof(float) * N);\n",
        "    device_api_kernel<<<blocks_per_grid, threads_per_block>>>(states, dOut, N);\n",
        "    checkCudaErr(cudaMemcpy(hOut, dOut, sizeof(float) * N, cudaMemcpyDeviceToHost), \"memcopy\");\n",
        "    printf(\"Displaying first 10 random numbers from array of 1000000 elements\\n\");\n",
        "    for (int i = 0; i < 10; i++)\n",
        "        printf(\"%2.4f\\n\", hOut[i]);\n",
        "    free(hOut);\n",
        "    cudaFree(dOut);\n",
        "    cudaFree(states);\n",
        "    return 0;\n",
        "}"
      ],
      "metadata": {
        "colab": {
          "base_uri": "https://localhost:8080/"
        },
        "id": "wuMdwHYGKw4B",
        "outputId": "238dfef6-3605-4a87-b595-c34028ebbd37"
      },
      "execution_count": 18,
      "outputs": [
        {
          "output_type": "stream",
          "name": "stdout",
          "text": [
            "Overwriting /content/test.cu\n"
          ]
        }
      ]
    },
    {
      "cell_type": "code",
      "source": [
        "!nvcc /content/test.cu -lcurand -o test"
      ],
      "metadata": {
        "id": "5V5NuQJ9TXX-"
      },
      "execution_count": 19,
      "outputs": []
    },
    {
      "cell_type": "code",
      "source": [
        "!./test"
      ],
      "metadata": {
        "colab": {
          "base_uri": "https://localhost:8080/"
        },
        "id": "8NE35S0WTjDo",
        "outputId": "21e6d78b-6c11-4500-898b-5f49d1ab66d0"
      },
      "execution_count": 20,
      "outputs": [
        {
          "output_type": "stream",
          "name": "stdout",
          "text": [
            "Displaying first 10 random numbers from array of 1000000 elements\n",
            "1.7875\n",
            "1.0698\n",
            "1.5584\n",
            "0.7782\n",
            "0.3320\n",
            "0.5016\n",
            "1.3649\n",
            "0.3079\n",
            "0.1805\n",
            "0.2031\n"
          ]
        }
      ]
    },
    {
      "cell_type": "markdown",
      "source": [
        "### Part(3)\n",
        "Copy the random array data generated on the GPU from the GPU to the CPU using\n",
        "cudaMemcpy. Note the amount of time it takes to move the data from GPU to the CPU.\n",
        "(+10)"
      ],
      "metadata": {
        "id": "bEvxGi0EW71C"
      }
    },
    {
      "cell_type": "code",
      "source": [
        "%%writefile /content/test.cu\n",
        "#include <stdio.h>\n",
        "#include <stdlib.h>\n",
        "#include <cuda.h>\n",
        "#include <curand_kernel.h>\n",
        "inline cudaError_t checkCudaErr(cudaError_t err, const char* msg) {\n",
        "  if (err != cudaSuccess) {\n",
        "    fprintf(stderr, \"CUDA Runtime error at %s: %s\\n\", msg, cudaGetErrorString(err));\n",
        "  }\n",
        "  return err;\n",
        "}\n",
        "\n",
        "__global__ void device_api_kernel(curandState *states, float *out, int N)\n",
        "{\n",
        "    int i;\n",
        "    int tid = blockIdx.x * blockDim.x + threadIdx.x;\n",
        "    int nthreads = gridDim.x * blockDim.x;\n",
        "    curandState *state = states + tid;\n",
        "\n",
        "    curand_init(9384, tid, 0, state);\n",
        "\n",
        "    for (i = tid; i < N; i += nthreads)\n",
        "    {\n",
        "        float rand = curand_uniform(state);\n",
        "        rand = rand * 2;\n",
        "        out[i] = rand;\n",
        "    }\n",
        "}\n",
        "\n",
        "\n",
        "int main(int argc, char **argv)\n",
        "{\n",
        "    int N = 1000000;\n",
        "    curandState *states = NULL;\n",
        "    float *dOut, *hOut;\n",
        "\t  int threads_per_block =  128;\n",
        "\t  int blocks_per_grid = ceilf(N/threads_per_block + 1);\n",
        "    cudaMalloc((void **)&dOut, sizeof(float) * N);\n",
        "    cudaMalloc((void **)&states, sizeof(curandState)*threads_per_block * blocks_per_grid);\n",
        "    hOut = (float *)malloc(sizeof(float) * N);\n",
        "    device_api_kernel<<<blocks_per_grid, threads_per_block>>>(states, dOut, N);\n",
        "    checkCudaErr(cudaMemcpy(hOut, dOut, sizeof(float) * N, cudaMemcpyDeviceToHost), \"memcopy\");\n",
        "    printf(\"Displaying first 10 random numbers from array of 1000000 elements\\n\");\n",
        "    for (int i = 0; i < 10; i++)\n",
        "        printf(\"%2.4f\\n\", hOut[i]);\n",
        "    free(hOut);\n",
        "    cudaFree(dOut);\n",
        "    cudaFree(states);\n",
        "    return 0;\n",
        "}"
      ],
      "metadata": {
        "colab": {
          "base_uri": "https://localhost:8080/"
        },
        "id": "Y0j-x7tLLOd2",
        "outputId": "5694caf8-de0b-47ca-8ffb-25466a01b10d"
      },
      "execution_count": 17,
      "outputs": [
        {
          "output_type": "stream",
          "name": "stdout",
          "text": [
            "Overwriting /content/test.cu\n"
          ]
        }
      ]
    },
    {
      "cell_type": "code",
      "source": [],
      "metadata": {
        "id": "DpneP3JJMsY6"
      },
      "execution_count": null,
      "outputs": []
    },
    {
      "cell_type": "markdown",
      "source": [
        "## Question 2\n",
        "Write CUDA code to calculate the sum of 1000 elements array and output the sum. Calculate\n",
        "the total time for doing the calculation on the CPU as well as on the GPU. Use an appropriate\n",
        "execution configuration when you launch your kernel. Share the following information from your\n",
        "solution.\n",
        "\n",
        "1. Code compiles and outputs as expected both on CPU and GPU. (+10)\n",
        "2. Plot your results in a graph and show both your results (CPU/GPU) against different\n",
        "dataset sizes (1000,10000,100000) and different execution configurations (+30)\n",
        "3. Do proper error handling in your code so any CUDA error should be reported to the user.\n",
        "(+10)\n",
        "\n"
      ],
      "metadata": {
        "id": "ypGqX5-AXAYQ"
      }
    },
    {
      "cell_type": "code",
      "source": [],
      "metadata": {
        "id": "2kD8lp-W-Y-T"
      },
      "execution_count": null,
      "outputs": []
    }
  ]
}