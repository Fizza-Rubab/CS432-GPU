{
  "nbformat": 4,
  "nbformat_minor": 0,
  "metadata": {
    "colab": {
      "provenance": [],
      "include_colab_link": true
    },
    "kernelspec": {
      "name": "python3",
      "display_name": "Python 3"
    },
    "language_info": {
      "name": "python"
    },
    "accelerator": "GPU"
  },
  "cells": [
    {
      "cell_type": "markdown",
      "metadata": {
        "id": "view-in-github",
        "colab_type": "text"
      },
      "source": [
        "<a href=\"https://colab.research.google.com/github/Fizza-Rubab/CS432-GPU/blob/main/Week2/AddTwoNumberOnGPU.ipynb\" target=\"_parent\"><img src=\"https://colab.research.google.com/assets/colab-badge.svg\" alt=\"Open In Colab\"/></a>"
      ]
    },
    {
      "cell_type": "code",
      "execution_count": 1,
      "metadata": {
        "colab": {
          "base_uri": "https://localhost:8080/"
        },
        "id": "LraUoP1_8GxK",
        "outputId": "9e5acd8d-54da-4382-c827-ff5064e469ba"
      },
      "outputs": [
        {
          "output_type": "stream",
          "name": "stdout",
          "text": [
            "Looking in indexes: https://pypi.org/simple, https://us-python.pkg.dev/colab-wheels/public/simple/\n",
            "Collecting git+https://github.com/andreinechaev/nvcc4jupyter.git\n",
            "  Cloning https://github.com/andreinechaev/nvcc4jupyter.git to /tmp/pip-req-build-bgycwllp\n",
            "  Running command git clone --filter=blob:none --quiet https://github.com/andreinechaev/nvcc4jupyter.git /tmp/pip-req-build-bgycwllp\n",
            "  Resolved https://github.com/andreinechaev/nvcc4jupyter.git to commit aac710a35f52bb78ab34d2e52517237941399eff\n",
            "  Preparing metadata (setup.py) ... \u001b[?25l\u001b[?25hdone\n",
            "Building wheels for collected packages: NVCCPlugin\n",
            "  Building wheel for NVCCPlugin (setup.py) ... \u001b[?25l\u001b[?25hdone\n",
            "  Created wheel for NVCCPlugin: filename=NVCCPlugin-0.0.2-py3-none-any.whl size=4304 sha256=f28a40069c4eb799ff0e09c7c31459202284774b52ffc5c6f7b768f421d90817\n",
            "  Stored in directory: /tmp/pip-ephem-wheel-cache-xr43wl4y/wheels/f3/08/cc/e2b5b0e1c92df07dbb50a6f024a68ce090f5e7b2316b41756d\n",
            "Successfully built NVCCPlugin\n",
            "Installing collected packages: NVCCPlugin\n",
            "Successfully installed NVCCPlugin-0.0.2\n",
            "created output directory at /content/src\n",
            "Out bin /content/result.out\n"
          ]
        }
      ],
      "source": [
        "!pip install git+https://github.com/andreinechaev/nvcc4jupyter.git\n",
        "%load_ext nvcc_plugin"
      ]
    },
    {
      "cell_type": "code",
      "source": [
        "%%cu\n",
        "#include <stdio.h>\n",
        "#include <stdlib.h>\n",
        "inline cudaError_t checkCudaErr(cudaError_t err, const char* msg) {\n",
        "  if (err != cudaSuccess) {\n",
        "    fprintf(stderr, \"CUDA Runtime error at %s: %s\\n\", msg, cudaGetErrorString(err));\n",
        "  }\n",
        "  return err;\n",
        "}\n",
        "\n",
        "//kernel function definition\n",
        "__global__ void add(int *a , int *b, int *c) \n",
        "{\n",
        "  *c = *a + *b;\n",
        "}\n",
        "\n",
        "//kernel function definition\n",
        "__global__ void subtract(int *a , int *b, int *c) \n",
        "{\n",
        "  *c = *a - *b;\n",
        "}\n",
        "\n",
        "\n",
        "//kernel function definition\n",
        "__global__ void multiply(int *a , int *b, int *c) \n",
        "{\n",
        "  *c = *a * *b;\n",
        "}\n",
        "\n",
        "//kernel function definition\n",
        "__global__ void divide(int *a , int *b, int *c) \n",
        "{\n",
        "  *c = *a / *b;\n",
        "}\n",
        "\n",
        "\n",
        "int main() {\n",
        "  int h_a = 10;\n",
        "  int h_b = 20;\n",
        "  int h_c;\n",
        "\n",
        "  int *d_a, *d_b, *d_c;\n",
        "\n",
        "  //allocate memory on device\n",
        "  cudaMalloc((void **)&d_a, sizeof(int));\n",
        "  cudaMalloc((void **)&d_b, sizeof(int));\n",
        "  cudaMalloc((void **)&d_c, sizeof(int));\n",
        "\n",
        "  //copy host data to device memory\n",
        "  cudaMemcpy(d_a, &h_a, sizeof(int), cudaMemcpyHostToDevice);\n",
        "  cudaMemcpy(d_b, &h_b, sizeof(int), cudaMemcpyHostToDevice);\n",
        "  \n",
        "  //call kernel\n",
        "  add<<<1,1>>>(d_a, d_b, d_c); \n",
        "\n",
        "  checkCudaErr(cudaDeviceSynchronize(), \"Syncronization\");\n",
        "  checkCudaErr(cudaGetLastError(), \"GPU\");\n",
        "  printf(\"Answer of Addition (on host): %d\\n\", h_a+h_b);\n",
        "\n",
        "  //copy device data to host memory\n",
        "  cudaMemcpy(&h_c, d_c, sizeof(int), cudaMemcpyDeviceToHost);\n",
        "  printf(\"Answer of Addition (on device): %d\", h_c);\n",
        "\n",
        "  subtract<<<1,1>>>(d_a,d_b,d_c);\n",
        "  \n",
        "  checkCudaErr(cudaDeviceSynchronize(), \"Syncronization\");\n",
        "  checkCudaErr(cudaGetLastError(), \"GPU\");\n",
        "  printf(\"\\nAnswer of Subtraction (on host): %d\\n\", h_a-h_b);\n",
        "\n",
        "  //copy device data to host memory\n",
        "  cudaMemcpy(&h_c, d_c, sizeof(int), cudaMemcpyDeviceToHost);\n",
        "  printf(\"Answer of Subtraction (on device): %d\", h_c);\n",
        "\n",
        "  multiply<<<1,1>>>(d_a,d_b,d_c);\n",
        "  \n",
        "  checkCudaErr(cudaDeviceSynchronize(), \"Syncronization\");\n",
        "  checkCudaErr(cudaGetLastError(), \"GPU\");\n",
        "  printf(\"\\nAnswer of Multiplication (on host): %d\\n\", h_a*h_b);\n",
        "\n",
        "  //copy device data to host memory\n",
        "  cudaMemcpy(&h_c, d_c, sizeof(int), cudaMemcpyDeviceToHost);\n",
        "  printf(\"Answer of Multiplication (on device): %d\", h_c);\n",
        "\n",
        "  divide<<<1,1>>>(d_a,d_b,d_c);\n",
        "  \n",
        "  checkCudaErr(cudaDeviceSynchronize(), \"Syncronization\");\n",
        "  checkCudaErr(cudaGetLastError(), \"GPU\");\n",
        "  printf(\"\\nAnswer of Division (on host): %d\\n\", h_a*h_b);\n",
        "\n",
        "  //copy device data to host memory\n",
        "  cudaMemcpy(&h_c, d_c, sizeof(int), cudaMemcpyDeviceToHost);\n",
        "  printf(\"Answer of Division (on device): %d\", h_c);\n",
        "\n",
        "\n",
        "  //release GPU memory\n",
        "  cudaFree(d_a);\n",
        "  cudaFree(d_b);\n",
        "  cudaFree(d_c);\n",
        "  \n",
        "  return 0;\n",
        "}"
      ],
      "metadata": {
        "colab": {
          "base_uri": "https://localhost:8080/"
        },
        "id": "pPxxyrjx8Hwz",
        "outputId": "4090e4f8-b6f6-44e8-cdbc-c6fd3b110efb"
      },
      "execution_count": 7,
      "outputs": [
        {
          "output_type": "stream",
          "name": "stdout",
          "text": [
            "Answer of Addition (on host): 30\n",
            "Answer of Addition (on device): 30\n",
            "Answer of Subtraction (on host): -10\n",
            "Answer of Subtraction (on device): -10\n",
            "Answer of Multiplication (on host): 200\n",
            "Answer of Multiplication (on device): 200\n",
            "Answer of Division (on host): 200\n",
            "Answer of Division (on device): 0\n"
          ]
        }
      ]
    }
  ]
}